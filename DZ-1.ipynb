{
 "cells": [
  {
   "metadata": {
    "ExecuteTime": {
     "end_time": "2025-06-24T19:34:51.263699Z",
     "start_time": "2025-06-24T19:34:51.214563Z"
    }
   },
   "cell_type": "code",
   "source": "import numpy as np\n",
   "id": "19cf4e58aaaa02e",
   "outputs": [],
   "execution_count": 1
  },
  {
   "metadata": {
    "ExecuteTime": {
     "end_time": "2025-06-24T19:34:51.410057Z",
     "start_time": "2025-06-24T19:34:51.403356Z"
    }
   },
   "cell_type": "code",
   "source": [
    "def simple_count(s: str) -> int:\n",
    "    \"\"\"\n",
    "    Подсчет длинны строки используя стандартную функцию len().\n",
    "\n",
    "    :param s : Строка.\n",
    "    :return  : Длинна строки.\n",
    "    \"\"\"\n",
    "    return len(s)"
   ],
   "id": "9cda493fae0bd6a",
   "outputs": [],
   "execution_count": 2
  },
  {
   "metadata": {
    "ExecuteTime": {
     "end_time": "2025-06-24T19:34:51.437941Z",
     "start_time": "2025-06-24T19:34:51.426279Z"
    }
   },
   "cell_type": "code",
   "source": [
    "def count_by_symbol(s: str) -> int:\n",
    "    \"\"\"\n",
    "    Подсчет длинны строки используя преобразование ее в массив\n",
    "    и подсчет количества элементов массива.\n",
    "\n",
    "    :param s : Строка.\n",
    "    :return  : Длинна строки.\n",
    "    \"\"\"\n",
    "    return len(list(s))"
   ],
   "id": "102a5a5605a1f376",
   "outputs": [],
   "execution_count": 3
  },
  {
   "metadata": {
    "ExecuteTime": {
     "end_time": "2025-06-24T19:34:51.461963Z",
     "start_time": "2025-06-24T19:34:51.450961Z"
    }
   },
   "cell_type": "code",
   "source": [
    "def get_str_statistic(s:str):\n",
    "    \"\"\"\n",
    "    Функция посчета статистики символов в строке\n",
    "\n",
    "    :param s: Строка\n",
    "    :return: Словарь, где:\n",
    "              count - общее количество символа в строке;\n",
    "              uniq  - количество не повторяющихся символов;\n",
    "              stat  - посимвольная статистика, где:\n",
    "                  sym         - символ;\n",
    "                  sym_count   - количество повторений символа в строке;\n",
    "                  percentages - процент повторений символа в строке.\n",
    "    \"\"\"\n",
    "\n",
    "    ch_arr = np.array(list(s))                              # Преобразование строки в массив символов\n",
    "    len_arr = len(ch_arr)\n",
    "\n",
    "    uniq_ch, counts = np.unique(ch_arr, return_counts=True) # Использую np.unique для подсчета уникальных символов и их количества\n",
    "    stat = [{'sym':str(char),\n",
    "             'sym_count':int(count),\n",
    "             'percentages':round((count/len_arr)*100,2)}\n",
    "            for char, count in zip(uniq_ch, counts)]        # Словарь со статистикой по каждому символу\n",
    "    return {'count':len_arr,\n",
    "            'uniq':len(uniq_ch),\n",
    "            'stat':stat}"
   ],
   "id": "21ec8d884fee189",
   "outputs": [],
   "execution_count": 4
  },
  {
   "metadata": {
    "ExecuteTime": {
     "end_time": "2025-06-24T19:35:14.895491Z",
     "start_time": "2025-06-24T19:34:51.472139Z"
    }
   },
   "cell_type": "code",
   "source": [
    "in_str = input(\"Введите строку: \")                   # Запрос ввода строки\n",
    "print(\"Вы ввели:\", in_str)                            # Вывод введенной строки"
   ],
   "id": "e93a1ce3fd5ccbd",
   "outputs": [
    {
     "name": "stdout",
     "output_type": "stream",
     "text": [
      "Вы ввели: qqqqqwwewertt\n"
     ]
    }
   ],
   "execution_count": 5
  },
  {
   "metadata": {
    "ExecuteTime": {
     "end_time": "2025-06-24T19:35:14.937064Z",
     "start_time": "2025-06-24T19:35:14.922086Z"
    }
   },
   "cell_type": "code",
   "source": [
    "# Вывод длинны введенной строки, используя простой подсчет\n",
    "\n",
    "print('\\nПростой подсчет длинны строки.')\n",
    "print(f'Длинна строки составляет '\n",
    "      f'{simple_count(in_str)} знаков.')"
   ],
   "id": "cd879c56c1f3aada",
   "outputs": [
    {
     "name": "stdout",
     "output_type": "stream",
     "text": [
      "\n",
      "Простой подсчет длинны строки.\n",
      "Длинна строки составляет 13 знаков.\n"
     ]
    }
   ],
   "execution_count": 6
  },
  {
   "metadata": {
    "ExecuteTime": {
     "end_time": "2025-06-24T19:35:14.964598Z",
     "start_time": "2025-06-24T19:35:14.948105Z"
    }
   },
   "cell_type": "code",
   "source": [
    "# Вывод длинны введенной строки, используя преобразование в массив и посчет количества элементов массива\n",
    "print('\\nПодсчет длинны строки с использованием массива')\n",
    "print(f'Длинна строки составляет '\n",
    "      f'{count_by_symbol(in_str)} знаков.')"
   ],
   "id": "30f1857aaa57ce71",
   "outputs": [
    {
     "name": "stdout",
     "output_type": "stream",
     "text": [
      "\n",
      "Подсчет длинны строки с использованием массива\n",
      "Длинна строки составляет 13 знаков.\n"
     ]
    }
   ],
   "execution_count": 7
  },
  {
   "metadata": {
    "ExecuteTime": {
     "end_time": "2025-06-24T19:35:14.981817Z",
     "start_time": "2025-06-24T19:35:14.973317Z"
    }
   },
   "cell_type": "code",
   "source": [
    "# Получить посимвольную статистику\n",
    "stat = get_str_statistic(in_str)\n",
    "# Далее вывод посимвольной статистики\n",
    "print('\\nПосимвольная статистика введенной строки.')"
   ],
   "id": "32e5a4708f91a0cb",
   "outputs": [
    {
     "name": "stdout",
     "output_type": "stream",
     "text": [
      "\n",
      "Посимвольная статистика введенной строки.\n"
     ]
    }
   ],
   "execution_count": 8
  },
  {
   "metadata": {
    "ExecuteTime": {
     "end_time": "2025-06-24T19:35:15.009563Z",
     "start_time": "2025-06-24T19:35:14.999402Z"
    }
   },
   "cell_type": "code",
   "source": [
    "st_get_c = stat.get('count')\n",
    "print(f'Общее количество символов в строке: {st_get_c}.')"
   ],
   "id": "79f610a0c1f5e5f6",
   "outputs": [
    {
     "name": "stdout",
     "output_type": "stream",
     "text": [
      "Общее количество символов в строке: 13.\n"
     ]
    }
   ],
   "execution_count": 9
  },
  {
   "metadata": {
    "ExecuteTime": {
     "end_time": "2025-06-24T19:35:15.026746Z",
     "start_time": "2025-06-24T19:35:15.013855Z"
    }
   },
   "cell_type": "code",
   "source": [
    "st_get_u= stat.get('uniq')\n",
    "print(f'Количество уникальных символов в строке: {st_get_u}.')"
   ],
   "id": "4d917f4a1776e440",
   "outputs": [
    {
     "name": "stdout",
     "output_type": "stream",
     "text": [
      "Количество уникальных символов в строке: 5.\n"
     ]
    }
   ],
   "execution_count": 10
  },
  {
   "metadata": {
    "ExecuteTime": {
     "end_time": "2025-06-24T19:35:15.061761Z",
     "start_time": "2025-06-24T19:35:15.049103Z"
    }
   },
   "cell_type": "code",
   "source": [
    "for i in stat.get('stat'):\n",
    "    sym = i.get('sym')\n",
    "    sym_count = i.get('sym_count')\n",
    "    percentages = i.get('percentages')\n",
    "    print (f'Символ: \"{sym}\", '\n",
    "       f'количество повтроений: {sym_count}'\n",
    "       f', процент повторений: {percentages}')"
   ],
   "id": "6a2f0708ed5665f5",
   "outputs": [
    {
     "name": "stdout",
     "output_type": "stream",
     "text": [
      "Символ: \"e\", количество повтроений: 2, процент повторений: 15.38\n",
      "Символ: \"q\", количество повтроений: 5, процент повторений: 38.46\n",
      "Символ: \"r\", количество повтроений: 1, процент повторений: 7.69\n",
      "Символ: \"t\", количество повтроений: 2, процент повторений: 15.38\n",
      "Символ: \"w\", количество повтроений: 3, процент повторений: 23.08\n"
     ]
    }
   ],
   "execution_count": 11
  }
 ],
 "metadata": {
  "kernelspec": {
   "display_name": "Python 3",
   "language": "python",
   "name": "python3"
  },
  "language_info": {
   "codemirror_mode": {
    "name": "ipython",
    "version": 2
   },
   "file_extension": ".py",
   "mimetype": "text/x-python",
   "name": "python",
   "nbconvert_exporter": "python",
   "pygments_lexer": "ipython2",
   "version": "2.7.6"
  }
 },
 "nbformat": 4,
 "nbformat_minor": 5
}
